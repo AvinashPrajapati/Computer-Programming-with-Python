{
 "cells": [
  {
   "cell_type": "code",
   "execution_count": 36,
   "id": "e149a528-ad89-412b-ac64-451793a5d68c",
   "metadata": {},
   "outputs": [],
   "source": [
    "def myfun(n):\n",
    "    # '''abc'''\n",
    "    \"\"\" OR RR \"\"\"\n",
    "    return lambda a: a*n"
   ]
  },
  {
   "cell_type": "code",
   "execution_count": 37,
   "id": "225c07fe-fcd0-4c36-b36c-b96633aa84e2",
   "metadata": {},
   "outputs": [
    {
     "data": {
      "text/plain": [
       "' OR RR '"
      ]
     },
     "execution_count": 37,
     "metadata": {},
     "output_type": "execute_result"
    }
   ],
   "source": [
    "myfun.__doc__"
   ]
  },
  {
   "cell_type": "code",
   "execution_count": null,
   "id": "d78d5b5c-72ba-4c7e-b821-85996ac1293f",
   "metadata": {},
   "outputs": [],
   "source": []
  },
  {
   "cell_type": "code",
   "execution_count": 31,
   "id": "aa9b61fe-61de-4d31-af6d-f862363bd4bd",
   "metadata": {},
   "outputs": [
    {
     "data": {
      "text/plain": [
       "<function __main__.myfun.<locals>.<lambda>(a)>"
      ]
     },
     "execution_count": 31,
     "metadata": {},
     "output_type": "execute_result"
    }
   ],
   "source": [
    "myfun(2)"
   ]
  },
  {
   "cell_type": "code",
   "execution_count": 32,
   "id": "5b3cd2f3-5aa0-4d11-9052-91c0103b5688",
   "metadata": {},
   "outputs": [],
   "source": [
    "mydoubler = myfun(2)"
   ]
  },
  {
   "cell_type": "code",
   "execution_count": 10,
   "id": "34967cfe-96b7-428f-be65-d0dcdf7bcca3",
   "metadata": {},
   "outputs": [
    {
     "data": {
      "text/plain": [
       "22"
      ]
     },
     "execution_count": 10,
     "metadata": {},
     "output_type": "execute_result"
    }
   ],
   "source": [
    "mydoubler(11)"
   ]
  },
  {
   "cell_type": "code",
   "execution_count": 21,
   "id": "5ea16a47-07dd-4133-a60b-6b2ae90e118c",
   "metadata": {},
   "outputs": [],
   "source": [
    "# 1. Assignment for Docstring"
   ]
  },
  {
   "cell_type": "code",
   "execution_count": 28,
   "id": "811b2e05-db60-4fbf-ae5f-0f8bd8487e0f",
   "metadata": {},
   "outputs": [
    {
     "name": "stdout",
     "output_type": "stream",
     "text": [
      "Evaluating : x, x-1 2 ,  1  || Result:  2\n",
      "Evaluating : x, x-1 3 ,  2  || Result:  6\n",
      "Evaluating : x, x-1 4 ,  3  || Result:  24\n",
      "Evaluating : x, x-1 5 ,  4  || Result:  120\n",
      "The factorial of 5 is 120\n"
     ]
    }
   ],
   "source": [
    "# factorial of a number\n",
    "def factorial(x):\n",
    "    if x==1:\n",
    "        return 1\n",
    "    else:\n",
    "        res = x*factorial(x-1)\n",
    "        print(\"Evaluating : x, x-1\", x, \", \", x-1, \" || Result: \", res)\n",
    "        return res\n",
    "num = 5\n",
    "print(\"The factorial of\", num, \"is\", factorial(num))"
   ]
  },
  {
   "cell_type": "code",
   "execution_count": 39,
   "id": "4397af55-6aca-427d-80e7-d33125a87309",
   "metadata": {},
   "outputs": [
    {
     "data": {
      "text/plain": [
       "10"
      ]
     },
     "execution_count": 39,
     "metadata": {},
     "output_type": "execute_result"
    }
   ],
   "source": [
    "# Q1. write a recursive function that will sum all numbers from 1 to n. n is the argument of the funtion\n",
    "def summation(n):\n",
    "    if n==1:\n",
    "        return 1\n",
    "\n",
    "    return (n + summation(n-1))\n",
    "summation(4)"
   ]
  },
  {
   "cell_type": "code",
   "execution_count": 9,
   "id": "a3ad3c2a-88a4-4ab0-b5a3-1cb1428a5259",
   "metadata": {},
   "outputs": [
    {
     "data": {
      "text/plain": [
       "1"
      ]
     },
     "execution_count": 9,
     "metadata": {},
     "output_type": "execute_result"
    }
   ],
   "source": [
    "# Q2 finthe smallest number in the list\n",
    "def findmin(Arr, n):\n",
    "    if n == 1:\n",
    "        return Arr[0]\n",
    "    return min(Arr[n-1], findmin(Arr, n-1))\n",
    "A = [1, 4, 73, 78 ,38 ,9,4, 9]\n",
    "findmin(A, len(A))"
   ]
  },
  {
   "cell_type": "code",
   "execution_count": 5,
   "id": "41a0a091-9e8f-4d83-8d41-8aee0d7cda09",
   "metadata": {},
   "outputs": [
    {
     "data": {
      "text/plain": [
       "1"
      ]
     },
     "execution_count": 5,
     "metadata": {},
     "output_type": "execute_result"
    }
   ],
   "source": [
    "min(A)"
   ]
  },
  {
   "cell_type": "code",
   "execution_count": 7,
   "id": "8eb5b82b-3150-4d00-be48-181d6a78a1f6",
   "metadata": {},
   "outputs": [
    {
     "data": {
      "text/plain": [
       "['__new__',\n",
       " '__repr__',\n",
       " '__call__',\n",
       " '__get__',\n",
       " '__closure__',\n",
       " '__doc__',\n",
       " '__globals__',\n",
       " '__module__',\n",
       " '__builtins__',\n",
       " '__code__',\n",
       " '__defaults__',\n",
       " '__kwdefaults__',\n",
       " '__annotations__',\n",
       " '__dict__',\n",
       " '__name__',\n",
       " '__qualname__',\n",
       " '__hash__',\n",
       " '__str__',\n",
       " '__getattribute__',\n",
       " '__setattr__',\n",
       " '__delattr__',\n",
       " '__lt__',\n",
       " '__le__',\n",
       " '__eq__',\n",
       " '__ne__',\n",
       " '__gt__',\n",
       " '__ge__',\n",
       " '__init__',\n",
       " '__reduce_ex__',\n",
       " '__reduce__',\n",
       " '__subclasshook__',\n",
       " '__init_subclass__',\n",
       " '__format__',\n",
       " '__sizeof__',\n",
       " '__dir__',\n",
       " '__class__']"
      ]
     },
     "execution_count": 7,
     "metadata": {},
     "output_type": "execute_result"
    }
   ],
   "source": [
    "findmin.__dir__()"
   ]
  },
  {
   "cell_type": "code",
   "execution_count": 10,
   "id": "a3530140-57ff-4177-9394-f1c66b2d9f11",
   "metadata": {},
   "outputs": [],
   "source": [
    "# Funtoional Argumetns\n",
    "# 1. Non Keywords argumets\n",
    "# 2, Keywords arguments"
   ]
  },
  {
   "cell_type": "code",
   "execution_count": 12,
   "id": "1e9220f4-d409-42b3-b44b-8304203d4229",
   "metadata": {},
   "outputs": [
    {
     "name": "stdout",
     "output_type": "stream",
     "text": [
      "(1, 3, 4)\n"
     ]
    }
   ],
   "source": [
    "def sum_all(*args):\n",
    "    result = 0\n",
    "    print(args)\n",
    "sum_all(1, 3, 4)"
   ]
  },
  {
   "cell_type": "code",
   "execution_count": 13,
   "id": "7f71b2cd-942c-4a1f-84c9-d2a9ddf80be8",
   "metadata": {},
   "outputs": [],
   "source": [
    "# 1. write a program to print the fibonachi series using recursion.\n",
    "# 2. write a program to reverse a string using recusrion.\n",
    "# 3. write a program to calculate exponential fun(x, y) using recursion.\n",
    "# 4. write a program to suffle a deck of cards using recursion.\n",
    "# 5. write a program to calculate GCD using recursion.\n",
    "# 6. "
   ]
  },
  {
   "cell_type": "code",
   "execution_count": 1,
   "id": "5f98bc8e-25dd-4c5d-9a2b-bf16ebe9aea2",
   "metadata": {},
   "outputs": [],
   "source": [
    "\n",
    "def fib(n):\n",
    "    if n <= 1:\n",
    "        return n\n",
    "    return fib(n-1) + fib(n-2)"
   ]
  },
  {
   "cell_type": "code",
   "execution_count": 4,
   "id": "c153c002-77d1-4ffd-9b4a-0b72966af0a1",
   "metadata": {},
   "outputs": [
    {
     "name": "stdout",
     "output_type": "stream",
     "text": [
      "0 1 1 2 3 5 8 13 21 34 "
     ]
    }
   ],
   "source": [
    "for i in range(10):\n",
    "    print(fib(i), end=\" \")"
   ]
  },
  {
   "cell_type": "code",
   "execution_count": 38,
   "id": "63b9ef12-6ce7-433f-b88f-b93058d8fb0b",
   "metadata": {},
   "outputs": [],
   "source": [
    "def GCD(a, b):\n",
    "    if b==0:\n",
    "        return a\n",
    "    return GCD(b, a%b)"
   ]
  },
  {
   "cell_type": "code",
   "execution_count": 39,
   "id": "5f3d0c57-3b4d-47af-bfca-657a3c9eaf26",
   "metadata": {},
   "outputs": [],
   "source": [
    "a = GCP(10, 15)"
   ]
  },
  {
   "cell_type": "code",
   "execution_count": 40,
   "id": "c443a301-4cc0-492e-b805-83f97daf6ee9",
   "metadata": {},
   "outputs": [
    {
     "data": {
      "text/plain": [
       "5"
      ]
     },
     "execution_count": 40,
     "metadata": {},
     "output_type": "execute_result"
    }
   ],
   "source": [
    "a"
   ]
  },
  {
   "cell_type": "code",
   "execution_count": null,
   "id": "82399dbe-17b7-4b98-a521-9cc12cca1255",
   "metadata": {},
   "outputs": [],
   "source": []
  }
 ],
 "metadata": {
  "kernelspec": {
   "display_name": "Python 3 (ipykernel)",
   "language": "python",
   "name": "python3"
  },
  "language_info": {
   "codemirror_mode": {
    "name": "ipython",
    "version": 3
   },
   "file_extension": ".py",
   "mimetype": "text/x-python",
   "name": "python",
   "nbconvert_exporter": "python",
   "pygments_lexer": "ipython3",
   "version": "3.10.6"
  },
  "widgets": {
   "application/vnd.jupyter.widget-state+json": {
    "state": {},
    "version_major": 2,
    "version_minor": 0
   }
  }
 },
 "nbformat": 4,
 "nbformat_minor": 5
}
