{
 "cells": [
  {
   "cell_type": "code",
   "execution_count": 33,
   "id": "bed248f0-7495-4e4e-be0c-19097dae43bb",
   "metadata": {},
   "outputs": [
    {
     "data": {
      "text/plain": [
       "1.9166666666666665"
      ]
     },
     "execution_count": 33,
     "metadata": {},
     "output_type": "execute_result"
    }
   ],
   "source": [
    "1/2 + 2/3 + 3/4"
   ]
  },
  {
   "cell_type": "code",
   "execution_count": 34,
   "id": "a7032e91-6a70-4944-b608-fbdfd881f174",
   "metadata": {},
   "outputs": [
    {
     "name": "stdout",
     "output_type": "stream",
     "text": [
      "1 / 2\n",
      "2 / 3\n",
      "3 / 4\n"
     ]
    },
    {
     "data": {
      "text/plain": [
       "1.9166666666666665"
      ]
     },
     "execution_count": 34,
     "metadata": {},
     "output_type": "execute_result"
    }
   ],
   "source": [
    "#Q1.1\n",
    "result = 0\n",
    "n = 3\n",
    "for i in range(1, n+1):\n",
    "    print(i, \"/\", i+1)\n",
    "    result = result + i/(i+1)\n",
    "result"
   ]
  },
  {
   "cell_type": "code",
   "execution_count": 38,
   "id": "b6d706e1-a6b7-4d9a-92b7-bb7eee6711c1",
   "metadata": {},
   "outputs": [
    {
     "data": {
      "text/plain": [
       "6.0"
      ]
     },
     "execution_count": 38,
     "metadata": {},
     "output_type": "execute_result"
    }
   ],
   "source": [
    "1/1 + 4/2 + 9/3"
   ]
  },
  {
   "cell_type": "code",
   "execution_count": 36,
   "id": "eb46a40e-0ba2-4de6-91de-346ce5b8ec83",
   "metadata": {},
   "outputs": [
    {
     "name": "stdout",
     "output_type": "stream",
     "text": [
      "1 / 2\n",
      "2 / 3\n",
      "3 / 4\n"
     ]
    },
    {
     "data": {
      "text/plain": [
       "6.0"
      ]
     },
     "execution_count": 36,
     "metadata": {},
     "output_type": "execute_result"
    }
   ],
   "source": [
    "#Q1.2\n",
    "result = 0\n",
    "n = 3\n",
    "for i in range(1, n+1):\n",
    "    print(i, \"/\", i+1)\n",
    "    result = result + i**2/(i)\n",
    "result"
   ]
  },
  {
   "cell_type": "code",
   "execution_count": 28,
   "id": "c30fbc37-aa97-4076-9ce7-cb7df307f6fd",
   "metadata": {},
   "outputs": [
    {
     "name": "stdout",
     "output_type": "stream",
     "text": [
      "(0, 0)(0, 1)(0, 2)\n",
      "(1, 0)(1, 1)(1, 2)\n",
      "(2, 0)(2, 1)(2, 2)\n"
     ]
    }
   ],
   "source": [
    "#Q2\n",
    "for i in range(3):\n",
    "    for j in range(3):\n",
    "        print((i,j), end=\"\")\n",
    "    print(\"\")"
   ]
  },
  {
   "cell_type": "code",
   "execution_count": 21,
   "id": "f3647e7c-cb3d-4bc9-9bf2-0e233d9c7953",
   "metadata": {},
   "outputs": [
    {
     "name": "stdout",
     "output_type": "stream",
     "text": [
      "0\n",
      "[1]\n",
      "1\n",
      "[1]\n",
      "2\n",
      "[1]\n",
      "0\n",
      "[0]\n",
      "1\n",
      "[0]\n",
      "2\n",
      "[0]\n",
      "0\n"
     ]
    },
    {
     "ename": "IndexError",
     "evalue": "list index out of range",
     "output_type": "error",
     "traceback": [
      "\u001b[1;31m---------------------------------------------------------------------------\u001b[0m",
      "\u001b[1;31mIndexError\u001b[0m                                Traceback (most recent call last)",
      "Cell \u001b[1;32mIn[21], line 10\u001b[0m\n\u001b[0;32m      6\u001b[0m \u001b[38;5;28;01mfor\u001b[39;00m i \u001b[38;5;129;01min\u001b[39;00m \u001b[38;5;28mrange\u001b[39m(\u001b[38;5;28mlen\u001b[39m(A[r])):\n\u001b[0;32m      7\u001b[0m     \u001b[38;5;66;03m# print(A[r][i] * B[i][])\u001b[39;00m\n\u001b[0;32m      9\u001b[0m     \u001b[38;5;28mprint\u001b[39m(i)\n\u001b[1;32m---> 10\u001b[0m     \u001b[38;5;28mprint\u001b[39m(\u001b[43mB\u001b[49m\u001b[43m[\u001b[49m\u001b[43mr\u001b[49m\u001b[43m]\u001b[49m)\n",
      "\u001b[1;31mIndexError\u001b[0m: list index out of range"
     ]
    }
   ],
   "source": [
    "#Q3\n",
    "# A 3*2  and B 2*1\n",
    "A = [[1,2,3],[4, 5,6], [7, 8, 9]]\n",
    "B = [[1],[0]]\n",
    "for r in range(len(A)):\n",
    "    for i in range(len(A[r])):\n",
    "        # print(A[r][i] * B[i][])\n",
    "\n",
    "        print(i)\n",
    "        print(B[r])\n",
    "                          "
   ]
  },
  {
   "cell_type": "code",
   "execution_count": 8,
   "id": "9f43ccd1-cff7-4975-944e-243a81ab2bfe",
   "metadata": {},
   "outputs": [
    {
     "name": "stdout",
     "output_type": "stream",
     "text": [
      "*\n",
      "**\n",
      "***\n",
      "****\n",
      "*****\n",
      "*****\n",
      "****\n",
      "***\n",
      "**\n",
      "*\n"
     ]
    }
   ],
   "source": [
    "#Q4\n",
    "for i in range(5):\n",
    "    print(\"*\"*(i+1))\n",
    "    if (i+1) == 5:\n",
    "        # print(\"aaa\")\n",
    "        while i+1 > 0:\n",
    "            print(\"*\"*(i+1))\n",
    "            i = i-1\n"
   ]
  },
  {
   "cell_type": "code",
   "execution_count": 1,
   "id": "7088e022-ecb4-476e-a036-a164292df76f",
   "metadata": {},
   "outputs": [
    {
     "name": "stdout",
     "output_type": "stream",
     "text": [
      "red apple\n",
      "red banana\n",
      "red cherry\n",
      "big apple\n",
      "big banana\n",
      "big cherry\n",
      "tasty apple\n",
      "tasty banana\n",
      "tasty cherry\n"
     ]
    }
   ],
   "source": [
    "#Q5\n",
    "for i in [\"red\", \"big\", \"tasty\"]:\n",
    "    for j in [\"apple\", \"banana\", \"cherry\"]:\n",
    "        print(i,j)"
   ]
  },
  {
   "cell_type": "code",
   "execution_count": 88,
   "id": "4c90a236-a8c8-4da6-8aab-0300f14e1659",
   "metadata": {},
   "outputs": [
    {
     "name": "stdout",
     "output_type": "stream",
     "text": [
      "           *           \n",
      "          ***         \n",
      "         *****       \n",
      "        *******     \n",
      "       *********   \n",
      "        *******     \n",
      "         *****       \n",
      "          ***         \n",
      "           *           \n"
     ]
    }
   ],
   "source": [
    "#Q6 \n",
    "n = 5\n",
    "for i in range(n):\n",
    "    print(\" \"*(2*5-i), \"*\"*(2*i+1), \" \"*(2*(5-i)))\n",
    "for i in range(n-2, -1, -1):\n",
    "    print(\" \"*(2*5-i), \"*\"*(2*i+1), \" \"*(2*(5-i)))\n",
    " "
   ]
  },
  {
   "cell_type": "code",
   "execution_count": 92,
   "id": "2d95f569-5216-43fe-88d0-9a1587c1a0a4",
   "metadata": {},
   "outputs": [
    {
     "name": "stdout",
     "output_type": "stream",
     "text": [
      "1\n",
      "1\n",
      "2\n",
      "4\n",
      "7\n",
      "11\n",
      "16\n",
      "22\n",
      "29\n",
      "37\n"
     ]
    }
   ],
   "source": [
    "prev =0\n",
    "current = 1\n",
    "for i in range(10):\n",
    "    temp = prev + current\n",
    "    \n",
    "    current = i\n",
    "    print(current_next)"
   ]
  },
  {
   "cell_type": "code",
   "execution_count": null,
   "id": "2ff3fef8-0bcd-4d5b-ad0e-6cad47bc2351",
   "metadata": {},
   "outputs": [],
   "source": []
  }
 ],
 "metadata": {
  "kernelspec": {
   "display_name": "Python 3 (ipykernel)",
   "language": "python",
   "name": "python3"
  },
  "language_info": {
   "codemirror_mode": {
    "name": "ipython",
    "version": 3
   },
   "file_extension": ".py",
   "mimetype": "text/x-python",
   "name": "python",
   "nbconvert_exporter": "python",
   "pygments_lexer": "ipython3",
   "version": "3.10.6"
  },
  "widgets": {
   "application/vnd.jupyter.widget-state+json": {
    "state": {},
    "version_major": 2,
    "version_minor": 0
   }
  }
 },
 "nbformat": 4,
 "nbformat_minor": 5
}
