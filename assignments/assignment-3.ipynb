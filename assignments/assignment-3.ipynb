{
 "cells": [
  {
   "cell_type": "markdown",
   "id": "3523bdf1",
   "metadata": {},
   "source": [
    "**Name :** Avinash Kumar Prajapati, **Roll number :** 25901326"
   ]
  },
  {
   "cell_type": "markdown",
   "id": "5129158d",
   "metadata": {},
   "source": [
    "### Q1) Generate all prime numbers less than 100.Print them in a spiral format (like a clockwis square spiral) of minimal size that fits all primes."
   ]
  },
  {
   "cell_type": "code",
   "execution_count": null,
   "id": "d7c0b064-6123-4d7d-942d-57fce7f4f8a6",
   "metadata": {},
   "outputs": [
    {
     "name": "stdout",
     "output_type": "stream",
     "text": [
      "Prime Spiral (<100):\n",
      " 2  3  5  7 11\n",
      "53 59 61 67 13\n",
      "47 89 97 71 17\n",
      "43 83 79 73 19\n",
      "41 37 31 29 23\n"
     ]
    }
   ],
   "source": [
    "import math\n",
    "\n",
    "\n",
    "# -----------------------------\n",
    "# Q1: Prime Spiral under 100\n",
    "# -----------------------------\n",
    "def is_prime(n: int) -> bool:\n",
    "    \"\"\"Check if a number is prime.\"\"\"\n",
    "    if n < 2:\n",
    "        return False\n",
    "    for i in range(2, int(math.sqrt(n)) + 1):\n",
    "        if n % i == 0:\n",
    "            return False\n",
    "    return True\n",
    "\n",
    "\n",
    "def generate_primes(limit: int = 100):\n",
    "    \"\"\"Return a list of prime numbers less than the given limit.\"\"\"\n",
    "    return [x for x in range(2, limit) if is_prime(x)]\n",
    "\n",
    "\n",
    "def spiral_matrix(data):\n",
    "    \"\"\"\n",
    "    Arrange numbers in a clockwise spiral inside the minimal square matrix.\n",
    "    Example: [2,3,5,7,11,...] -> spiral layout.\n",
    "    \"\"\"\n",
    "    n = math.ceil(math.sqrt(len(data)))  # minimal square size\n",
    "    # Create empty n x n matrix\n",
    "    mat = [[None] * n for _ in range(n)]\n",
    "    top, bottom, left, right = 0, n - 1, 0, n - 1\n",
    "    idx = 0\n",
    "\n",
    "    while idx < len(data):\n",
    "        # left -> right\n",
    "        for j in range(left, right + 1):\n",
    "            if idx < len(data):\n",
    "                mat[top][j] = data[idx]\n",
    "                idx += 1\n",
    "        top += 1\n",
    "\n",
    "        # top -> bottom\n",
    "        for i in range(top, bottom + 1):\n",
    "            if idx < len(data):\n",
    "                mat[i][right] = data[idx]\n",
    "                idx += 1\n",
    "        right -= 1\n",
    "\n",
    "        # right -> left\n",
    "        for j in range(right, left - 1, -1):\n",
    "            if idx < len(data):\n",
    "                mat[bottom][j] = data[idx]\n",
    "                idx += 1\n",
    "        bottom -= 1\n",
    "\n",
    "        # bottom -> top\n",
    "        for i in range(bottom, top - 1, -1):\n",
    "            if idx < len(data):\n",
    "                mat[i][left] = data[idx]\n",
    "                idx += 1\n",
    "        left += 1\n",
    "\n",
    "    return mat\n",
    "\n",
    "\n",
    "def print_spiral_matrix(matrix):\n",
    "    \"\"\"Nicely print the spiral matrix.\"\"\"\n",
    "    for row in matrix:\n",
    "        print(\" \".join(str(x).rjust(2) if x is not None else \"  \" for x in row))\n",
    "\n",
    "\n",
    "primes = generate_primes(100)\n",
    "spiral = spiral_matrix(primes)\n",
    "print(\"Prime Spiral (<100):\")\n",
    "print_spiral_matrix(spiral)"
   ]
  },
  {
   "cell_type": "markdown",
   "id": "26a6480d",
   "metadata": {},
   "source": [
    "### Q2) You are a data analyst at a streaming platform, managing user interactions, analytics, and daily operations. Use a for loop to create a text-based graph of hourly views. For example, use * to represent every 5 views."
   ]
  },
  {
   "cell_type": "code",
   "execution_count": 1,
   "id": "69cdb09d-7255-474a-b72f-bbbacb3f825b",
   "metadata": {},
   "outputs": [
    {
     "name": "stdout",
     "output_type": "stream",
     "text": [
      "\n",
      "Hourly Views Graph:\n",
      "Hour 00: **\n",
      "Hour 01: *****\n",
      "Hour 02: ***\n",
      "Hour 03: ********\n",
      "Hour 04: ******\n",
      "Hour 05: **\n",
      "Hour 06: \n",
      "Hour 07: *\n",
      "Hour 08: *\n",
      "Hour 09: ****\n",
      "Hour 10: ***\n",
      "Hour 11: **********\n",
      "Hour 12: ************\n",
      "Hour 13: *********\n",
      "Hour 14: *******\n",
      "Hour 15: ****\n",
      "Hour 16: **\n",
      "Hour 17: *\n",
      "Hour 18: \n",
      "Hour 19: \n",
      "Hour 20: *\n",
      "Hour 21: **\n",
      "Hour 22: *\n",
      "Hour 23: \n"
     ]
    }
   ],
   "source": [
    "# -----------------------------\n",
    "# Q2: Text-based Graph of Views\n",
    "# -----------------------------\n",
    "def plot_views(hourly_views):\n",
    "    \"\"\"\n",
    "    Create a text-based bar chart where each '*' = 5 views.\n",
    "    hourly_views: list of integers, views per hour.\n",
    "    \"\"\"\n",
    "    print(\"\\nHourly Views Graph:\")\n",
    "    for hour, views in enumerate(hourly_views):\n",
    "        stars = \"*\" * (views // 5)\n",
    "        print(f\"Hour {hour:02d}: {stars}\")\n",
    "# Sample hourly views (24 hours)\n",
    "hourly_views = [12,\n",
    "    25,\n",
    "    18,\n",
    "    40,\n",
    "    33,\n",
    "    10,\n",
    "    0,\n",
    "    5,\n",
    "    8,\n",
    "    22,\n",
    "    15,\n",
    "    50,\n",
    "    60,\n",
    "    45,\n",
    "    38,\n",
    "    20,\n",
    "    12,\n",
    "    5,\n",
    "    3,\n",
    "    0,\n",
    "    8,\n",
    "    10,\n",
    "    5,\n",
    "    2,\n",
    "]\n",
    "\n",
    "# Q2\n",
    "plot_views(hourly_views)"
   ]
  },
  {
   "cell_type": "markdown",
   "id": "25c00a40",
   "metadata": {},
   "source": [
    "### Q3) Each video watched generates revenue based on ad impressions:\n",
    "- First 10 views: $0.50 per view\n",
    "- Next 20 views: $0.30 per view\n",
    "- Remaining views: $0.10 per view You are given hourly views for the day. - Calculate total daily revenue."
   ]
  },
  {
   "cell_type": "code",
   "execution_count": null,
   "id": "e58324c9-9548-498f-8c37-e55f5ef2061c",
   "metadata": {},
   "outputs": [
    {
     "name": "stdout",
     "output_type": "stream",
     "text": [
      "\n",
      "Total Daily Revenue: $52.60\n"
     ]
    }
   ],
   "source": [
    "# -----------------------------\n",
    "# Q3: Revenue Calculation\n",
    "# -----------------------------\n",
    "def calculate_revenue(hourly_views):\n",
    "    \"\"\"\n",
    "    Calculate total daily revenue based on tiered ad pricing.\n",
    "    - First 10 views -> $0.50\n",
    "    - Next 20 views  -> $0.30\n",
    "    - Remaining      -> $0.10\n",
    "    \"\"\"\n",
    "    total_revenue = 0.0\n",
    "    total_views = sum(hourly_views)\n",
    "\n",
    "    # Apply pricing tiers\n",
    "    if total_views > 0:\n",
    "        tier1 = min(10, total_views)\n",
    "        total_revenue += tier1 * 0.50\n",
    "        total_views -= tier1\n",
    "\n",
    "    if total_views > 0:\n",
    "        tier2 = min(20, total_views)\n",
    "        total_revenue += tier2 * 0.30\n",
    "        total_views -= tier2\n",
    "\n",
    "    if total_views > 0:\n",
    "        total_revenue += total_views * 0.10\n",
    "\n",
    "    return total_revenue\n",
    "\n",
    "\n",
    "revenue = calculate_revenue(hourly_views)\n",
    "print(f\"\\nTotal Daily Revenue: ${revenue:.2f}\")"
   ]
  }
 ],
 "metadata": {
  "kernelspec": {
   "display_name": "Python 3",
   "language": "python",
   "name": "python3"
  },
  "language_info": {
   "codemirror_mode": {
    "name": "ipython",
    "version": 3
   },
   "file_extension": ".py",
   "mimetype": "text/x-python",
   "name": "python",
   "nbconvert_exporter": "python",
   "pygments_lexer": "ipython3",
   "version": "3.10.6"
  },
  "widgets": {
   "application/vnd.jupyter.widget-state+json": {
    "state": {},
    "version_major": 2,
    "version_minor": 0
   }
  }
 },
 "nbformat": 4,
 "nbformat_minor": 5
}
