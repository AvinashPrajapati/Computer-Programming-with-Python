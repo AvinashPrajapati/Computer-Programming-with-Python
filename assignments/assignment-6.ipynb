{
 "cells": [
  {
   "cell_type": "markdown",
   "id": "30fa1738",
   "metadata": {},
   "source": [
    "**Name - Avinash Kumar Prajapati**\n",
    "<br>\n",
    "**Roll no** - 25901326"
   ]
  },
  {
   "cell_type": "markdown",
   "id": "e39e1e58",
   "metadata": {},
   "source": [
    "1. Write a program to count the number of times the charector appears in the file."
   ]
  },
  {
   "cell_type": "code",
   "execution_count": 3,
   "id": "c2450183",
   "metadata": {},
   "outputs": [
    {
     "name": "stdout",
     "output_type": "stream",
     "text": [
      "Bottom Line: For someone coming from Filmora who wants lots of ready-to-use transitions and elements, CapCut is your best bet as it most closely matches that \"everything included\" experience. \n",
      "If \n",
      "you're willing to trade -    \n",
      "immediate \n",
      "convenience for higher quality and \n",
      "customization, \n",
      "DaVinci Resolve is the professional choice.\n"
     ]
    }
   ],
   "source": [
    "inpt = \"\"\n",
    "with open(\"sample_text_assignemt_6.txt\", \"r+\") as fp:\n",
    "    inpt = fp.read()\n",
    "print(inpt)"
   ]
  },
  {
   "cell_type": "code",
   "execution_count": 4,
   "id": "4224d105",
   "metadata": {},
   "outputs": [],
   "source": [
    "targetChar = \"i\""
   ]
  },
  {
   "cell_type": "code",
   "execution_count": 6,
   "id": "b59964f2",
   "metadata": {},
   "outputs": [
    {
     "name": "stdout",
     "output_type": "stream",
     "text": [
      "i -> 24\n"
     ]
    }
   ],
   "source": [
    "count = 0\n",
    "for i in inpt:\n",
    "    if i == targetChar:\n",
    "        count += 1\n",
    "\n",
    "print(targetChar, \"->\", count)"
   ]
  },
  {
   "cell_type": "markdown",
   "id": "a943bf2c",
   "metadata": {},
   "source": [
    "2. WAP a progrom that needs data from a file to calculate percentage of vowels and consonants in file."
   ]
  },
  {
   "cell_type": "code",
   "execution_count": 7,
   "id": "42ded458",
   "metadata": {},
   "outputs": [
    {
     "name": "stdout",
     "output_type": "stream",
     "text": [
      "Bottom Line: For someone coming from Filmora who wants lots of ready-to-use transitions and elements, CapCut is your best bet as it most closely matches that \"everything included\" experience. \n",
      "If \n",
      "you're willing to trade -    \n",
      "immediate \n",
      "convenience for higher quality and \n",
      "customization, \n",
      "DaVinci Resolve is the professional choice.\n"
     ]
    }
   ],
   "source": [
    "inpt = \"\"\n",
    "with open(\"sample_text_assignemt_6.txt\", \"r+\") as fp:\n",
    "    inpt = fp.read()\n",
    "print(inpt)"
   ]
  },
  {
   "cell_type": "code",
   "execution_count": null,
   "id": "9c60a31c",
   "metadata": {},
   "outputs": [
    {
     "data": {
      "text/plain": [
       "106"
      ]
     },
     "execution_count": 20,
     "metadata": {},
     "output_type": "execute_result"
    }
   ],
   "source": [
    "inpt = inpt.strip()\n",
    "totalVowels = 0\n",
    "for i in \"aeiouAEIOU\":\n",
    "    if i in inpt:\n",
    "        totalVowels = totalVowels + inpt.count(i)   #  each vowel letter in count in the given inpt\n",
    "totalVowels"
   ]
  },
  {
   "cell_type": "code",
   "execution_count": 21,
   "id": "a5414fbc",
   "metadata": {},
   "outputs": [
    {
     "data": {
      "text/plain": [
       "(160, 266)"
      ]
     },
     "execution_count": 21,
     "metadata": {},
     "output_type": "execute_result"
    }
   ],
   "source": [
    "letters = 0\n",
    "for i in inpt:\n",
    "    if i.isalpha():\n",
    "        letters = letters +1\n",
    "consonants = letters - totalVowels\n",
    "consonants, letters"
   ]
  },
  {
   "cell_type": "code",
   "execution_count": 22,
   "id": "c7a9acf1",
   "metadata": {},
   "outputs": [
    {
     "data": {
      "text/plain": [
       "39.849624060150376"
      ]
     },
     "execution_count": 22,
     "metadata": {},
     "output_type": "execute_result"
    }
   ],
   "source": [
    "# Vowel percentage = (vowel letter count / total letter) * 100\n",
    "(totalVowels/letters) * 100"
   ]
  },
  {
   "cell_type": "markdown",
   "id": "ea21800e",
   "metadata": {},
   "source": [
    "3. WAP to count total size of the file."
   ]
  },
  {
   "cell_type": "code",
   "execution_count": null,
   "id": "7e471f54",
   "metadata": {},
   "outputs": [
    {
     "name": "stdout",
     "output_type": "stream",
     "text": [
      "Manual file size: 339 bytes\n",
      "Manual file size: 2712 bits\n"
     ]
    }
   ],
   "source": [
    "file_path = \"sample_text_assignemt_6.txt\"\n",
    "\n",
    "# Open the file in binary mode (to get raw bytes)\n",
    "with open(file_path, \"rb\") as f:\n",
    "    file_data = f.read()\n",
    "\n",
    "# Count bytes manually\n",
    "manual_file_size = len(file_data)  # count all charectors\n",
    "\n",
    "print(f\"Manual file size: {manual_file_size} bytes\")\n",
    "print(f\"Manual file size: {manual_file_size * 8} bits\")   ## standart bits in 1 bytes"
   ]
  },
  {
   "cell_type": "markdown",
   "id": "50077671",
   "metadata": {},
   "source": [
    "4. WAP that generates a quiz and uses two files questions.txt and answers.txt. Program opens questions.txt and reads a question and displays the question with options on the screen. The program then opens answer.txt file and display correct answers."
   ]
  },
  {
   "cell_type": "code",
   "execution_count": 46,
   "id": "1fb5aed3",
   "metadata": {},
   "outputs": [
    {
     "name": "stdout",
     "output_type": "stream",
     "text": [
      "🎯 Welcome to the Quiz!\n",
      "Type 'exit' anytime to quit.\n",
      "\n",
      "1. Which of the following data types is immutable in Python?\n",
      "A) List\n",
      "B) Set\n",
      "C) Dictionary\n",
      "D) Tuple\n"
     ]
    },
    {
     "name": "stdout",
     "output_type": "stream",
     "text": [
      "❌ Wrong! Correct answer: D\n",
      "\n",
      "2. What is the output of 2 ** 3 in Python?\n",
      "A) 6\n",
      "B) 8\n",
      "C) 9\n",
      "D) Error\n",
      "❌ Wrong! Correct answer: B\n",
      "\n",
      "3. Which keyword is used to define a function in Python?\n",
      "A) define\n",
      "B) func\n",
      "C) def\n",
      "D) lambda\n",
      "❌ Wrong! Correct answer: C\n",
      "\n",
      "🏁 Quiz finished! Your score: 0/3\n"
     ]
    }
   ],
   "source": [
    "def read_file(filename):\n",
    "    with open(filename, \"r\", encoding=\"utf-8\") as f:\n",
    "        content = f.read().strip()\n",
    "    return [block.strip() for block in content.split(\"\\n\\n\") if block.strip()]\n",
    "\n",
    "\n",
    "# main program\n",
    "if __name__ == \"__main__\":\n",
    "    questions = read_file(\"assignment_6__questions.txt\")\n",
    "    answers = [\n",
    "        ans.strip().upper()\n",
    "        for ans in open(\"assignment_6__answers.txt\", encoding=\"utf-8\")\n",
    "        .read()\n",
    "        .splitlines()\n",
    "        if ans.strip()\n",
    "    ]\n",
    "\n",
    "    i = 0\n",
    "    score = 0\n",
    "    total = len(questions)\n",
    "\n",
    "    print(\"🎯 Welcome to the Quiz!\")\n",
    "    print(\"Type 'exit' anytime to quit.\\n\")\n",
    "\n",
    "    while i < total:\n",
    "        print(questions[i])\n",
    "        user_ans = input(\"\\nYour answer (A/B/C/D): \").strip().upper()\n",
    "\n",
    "        if user_ans.lower() == \"exit\":\n",
    "            break\n",
    "\n",
    "        if user_ans == answers[i]:\n",
    "            print(\"✅ Correct!\\n\")\n",
    "            score += 1\n",
    "        else:\n",
    "            print(f\"❌ Wrong! Correct answer: {answers[i]}\\n\")\n",
    "\n",
    "        i += 1\n",
    "\n",
    "    print(f\"🏁 Quiz finished! Your score: {score}/{total}\")"
   ]
  },
  {
   "cell_type": "markdown",
   "id": "43d706d8",
   "metadata": {},
   "source": [
    "5. WAP that fetches data from a specified URL and prints it on screen and also writes it in a file."
   ]
  },
  {
   "cell_type": "code",
   "execution_count": null,
   "id": "b1a9b946",
   "metadata": {},
   "outputs": [
    {
     "name": "stdout",
     "output_type": "stream",
     "text": [
      "=== Data Fetched Successfully ===\n",
      "\n",
      "<!doctype html><html lang=\"en\"><head><title>Example Domain</title><meta name=\"viewport\" content=\"width=device-width, initial-scale=1\"><style>body{background:#eee;width:60vw;margin:15vh auto;font-family:system-ui,sans-serif}h1{font-size:1.5em}div{opacity:0.8}a:link,a:visited{color:#348}</style><body><div><h1>Example Domain</h1><p>This domain is for use in documentation examples without needing permission. Avoid use in operations.<p><a href=\"https://iana.org/domains/example\">Learn more</a></div></body></html>\n",
      "\n",
      "\n",
      "... (output truncated)\n",
      "\n",
      "✅ Data written to './output__assignemnt_7.txt' successfully.\n",
      "\n"
     ]
    }
   ],
   "source": [
    "import requests\n",
    "\n",
    "\n",
    "def fetch_and_save(url, filename=\"output__assignemnt_7.txt\"):\n",
    "    try:\n",
    "        # Send a GET request to the URL\n",
    "        response = requests.get(url)\n",
    "\n",
    "        # Check for HTTP errors\n",
    "        response.raise_for_status()\n",
    "\n",
    "        # Get the text content from the response\n",
    "        data = response.text\n",
    "\n",
    "        # Print the data on screen\n",
    "        print(\"=== Data Fetched Successfully ===\\n\")\n",
    "        print(data[:1000])  # it will show first 1000 chars for brevity\n",
    "        print(\"\\n... (output truncated)\\n\")\n",
    "\n",
    "        # Write the data to a file\n",
    "        with open(filename, \"w\", encoding=\"utf-8\") as f:\n",
    "            f.write(data)\n",
    "\n",
    "        print(f\"✅ Data written to '{filename}' successfully.\\n\")\n",
    "\n",
    "    except requests.exceptions.RequestException as e:\n",
    "        print(f\"❌ Error fetching data: {e}\")\n",
    "\n",
    "\n",
    "if __name__ == \"__main__\":\n",
    "    url = input(\"Enter the URL to fetch data from: \").strip()\n",
    "    fetch_and_save(url)\n",
    "#### use https://example.com   as url"
   ]
  },
  {
   "cell_type": "code",
   "execution_count": null,
   "id": "bbc27e28",
   "metadata": {},
   "outputs": [],
   "source": []
  }
 ],
 "metadata": {
  "kernelspec": {
   "display_name": "Python 3",
   "language": "python",
   "name": "python3"
  },
  "language_info": {
   "codemirror_mode": {
    "name": "ipython",
    "version": 3
   },
   "file_extension": ".py",
   "mimetype": "text/x-python",
   "name": "python",
   "nbconvert_exporter": "python",
   "pygments_lexer": "ipython3",
   "version": "3.10.6"
  }
 },
 "nbformat": 4,
 "nbformat_minor": 5
}
