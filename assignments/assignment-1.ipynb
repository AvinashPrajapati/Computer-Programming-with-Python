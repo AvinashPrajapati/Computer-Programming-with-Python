{
 "cells": [
  {
   "cell_type": "markdown",
   "id": "87cf69cf",
   "metadata": {},
   "source": [
    "#### Question 1. Write a Python program to get a list, sorted in increasing order by the last element in each tuple from a given list of non-empty tuples.\n",
    "**Sample List : [(2, 5), (1, 2), (4, 4), (2, 3), (2, 1)]**"
   ]
  },
  {
   "cell_type": "code",
   "execution_count": null,
   "id": "54710001",
   "metadata": {},
   "outputs": [
    {
     "name": "stdout",
     "output_type": "stream",
     "text": [
      " Sorted List based on the 2nd element of the tuple element::\n",
      " [(2, 1), (1, 2), (2, 3), (4, 4), (2, 5)]\n"
     ]
    }
   ],
   "source": [
    "sample_list = [(2, 5), (1, 2), (4, 4), (2, 3), (2, 1)]\n",
    "n = len(sample_list)\n",
    "\n",
    "# Sorting, Note we can use sorted() function directly but we have not taught this till now 06-09-25 in the class/lab\n",
    "for i in range(1, n):\n",
    "    key = sample_list[i]\n",
    "    j = i-1\n",
    "\n",
    "    while j>=0  and sample_list[j][1] > key[1]:\n",
    "        sample_list[j+1] = sample_list[j]\n",
    "        j-=1\n",
    "    sample_list[j+1] = key\n",
    "# if we are using the sorted() funtion then\n",
    "# sorted(sample_list, key=lambda x: x[1])\n",
    "\n",
    "print(\" Sorted List based on the 2nd element of the tuple element::\\n\", sample_list)"
   ]
  },
  {
   "cell_type": "markdown",
   "id": "a6d5765b",
   "metadata": {},
   "source": [
    "#### Q2) Write a Python program to get a string from a given string where all occurrences of its first char have been changed to '$', except the first char itself. \n",
    "**Sample String : 'restart'**"
   ]
  },
  {
   "cell_type": "code",
   "execution_count": 38,
   "id": "fe512b98",
   "metadata": {},
   "outputs": [
    {
     "name": "stdout",
     "output_type": "stream",
     "text": [
      "Output string :  resta$t$\n"
     ]
    }
   ],
   "source": [
    "sample_string = 'restartr'\n",
    "result = \"\"\n",
    "count = 0\n",
    "for letter in sample_string:\n",
    "    if letter == 'r':\n",
    "        count+=1\n",
    "        if count > 1:\n",
    "            result += \"$\"\n",
    "        else:\n",
    "            result += letter\n",
    "    else:\n",
    "        result += letter\n",
    "print(\"Output string : \", result)"
   ]
  },
  {
   "cell_type": "markdown",
   "id": "54c3ed58",
   "metadata": {},
   "source": [
    "#### Q3) Write a Python program to find the first appearance of the substring 'not' and 'poor' from a given string, if 'bad' follows the 'poor', replace the whole 'not'...'poor' substring with 'good'. Return the resulting string. \n",
    "**Sample String : 'The lyrics is not that poor and also bad !'**"
   ]
  },
  {
   "cell_type": "code",
   "execution_count": 2,
   "id": "3dfddddb",
   "metadata": {},
   "outputs": [
    {
     "name": "stdout",
     "output_type": "stream",
     "text": [
      "the lyric is good\n"
     ]
    }
   ],
   "source": [
    "s = input()\n",
    "n = s.find(\"not\")\n",
    "p = s.find(\"poor\")\n",
    "if n != -1 and p != -1 and n < p:\n",
    "    s = s[:n] + \"good\" + s[p + 4 :]\n",
    "print(s)"
   ]
  },
  {
   "cell_type": "markdown",
   "id": "4c1f4739",
   "metadata": {},
   "source": [
    "#### Q4) Write a python program to sort a dictionary by value. "
   ]
  },
  {
   "cell_type": "code",
   "execution_count": null,
   "id": "9fd84f29",
   "metadata": {},
   "outputs": [
    {
     "data": {
      "text/plain": [
       "{'fashwash': 1,\n",
       " 'hair-oil': 1,\n",
       " 'toothpaste': 1,\n",
       " 'sampoo': 2,\n",
       " 'soap': 5,\n",
       " 'hair-clip': 6}"
      ]
     },
     "execution_count": 48,
     "metadata": {},
     "output_type": "execute_result"
    }
   ],
   "source": [
    "data = {\n",
    "    \"soap\": 5,\n",
    "    \"fashwash\": 1,\n",
    "    \"hair-oil\": 1,\n",
    "    \"sampoo\": 2,\n",
    "    \"toothpaste\": 1,\n",
    "    \"hair-clip\": 6,\n",
    "}\n",
    "data_list = list(data.items())\n",
    "\n",
    "n = len(data_list)\n",
    "# Sorting, Note we can use sorted() function directly but we have not taught this till now 06-09-25 in the class/lab\n",
    "for i in range(1, n):\n",
    "    key = data_list[i]\n",
    "    j = i - 1\n",
    "\n",
    "    while j >= 0 and data_list[j][1] > key[1]:\n",
    "        data_list[j + 1] = data_list[j]\n",
    "        j -= 1\n",
    "    data_list[j + 1] = key\n",
    "original_data = dict({})\n",
    "for i in data_list:\n",
    "    original_data[i[0]] = i[1]\n",
    "\n",
    "# if we are using the sorted() funtion then\n",
    "# original_data =dict(sorted(data_list, key=lambda x: x[1]))\n",
    "\n",
    "print(\"Data sorted by values : \\n\", original_data)"
   ]
  },
  {
   "cell_type": "markdown",
   "id": "d0554ad0",
   "metadata": {},
   "source": [
    "#### Q5) Write a python program to add key to a dictionary. "
   ]
  },
  {
   "cell_type": "code",
   "execution_count": 1,
   "id": "3111f49f",
   "metadata": {},
   "outputs": [
    {
     "name": "stdout",
     "output_type": "stream",
     "text": [
      "The New Data is :  {'5': '5'}\n"
     ]
    }
   ],
   "source": [
    "DataDict = dict({})\n",
    "new_key = input(\"Enter the new Key to the DataDict: \")\n",
    "value = input(\"Enter the value of this key: \")\n",
    "\n",
    "DataDict[new_key] = value\n",
    "print(\"The New Data is : \", DataDict)"
   ]
  }
 ],
 "metadata": {
  "kernelspec": {
   "display_name": "Python 3",
   "language": "python",
   "name": "python3"
  },
  "language_info": {
   "codemirror_mode": {
    "name": "ipython",
    "version": 3
   },
   "file_extension": ".py",
   "mimetype": "text/x-python",
   "name": "python",
   "nbconvert_exporter": "python",
   "pygments_lexer": "ipython3",
   "version": "3.10.6"
  }
 },
 "nbformat": 4,
 "nbformat_minor": 5
}
