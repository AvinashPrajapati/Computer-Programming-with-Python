{
 "cells": [
  {
   "cell_type": "markdown",
   "id": "98128205",
   "metadata": {},
   "source": [
    "#### 1. Write a program that encypts seme messages bt adding a value to every charector given the input"
   ]
  },
  {
   "cell_type": "code",
   "execution_count": 1,
   "id": "26dc71df",
   "metadata": {},
   "outputs": [
    {
     "name": "stdout",
     "output_type": "stream",
     "text": [
      "Encrypted message: CXKPCUJ\n"
     ]
    },
    {
     "data": {
      "text/plain": [
       "'CXKPCUJ'"
      ]
     },
     "execution_count": 1,
     "metadata": {},
     "output_type": "execute_result"
    }
   ],
   "source": [
    "def encrypt_message():\n",
    "    message = input(\"Enter the message to encrypt: \")\n",
    "    shift = int(input(\"Enter the shift value: \"))\n",
    "\n",
    "    encrypted = \"\"\n",
    "    for char in message:\n",
    "        if char.isalpha():\n",
    "            # Shift character while maintaining case\n",
    "            if char.islower():\n",
    "                encrypted += chr((ord(char) - ord(\"a\") + shift) % 26 + ord(\"a\"))\n",
    "            else:\n",
    "                encrypted += chr((ord(char) - ord(\"A\") + shift) % 26 + ord(\"A\"))\n",
    "        else:\n",
    "            encrypted += char\n",
    "\n",
    "    print(f\"Encrypted message: {encrypted}\")\n",
    "    return encrypted\n",
    "\n",
    "\n",
    "# Test the function\n",
    "encrypt_message()"
   ]
  },
  {
   "cell_type": "markdown",
   "id": "6d80d14e",
   "metadata": {},
   "source": [
    "#### 2. WAP that finds where a given charector is present in a string or not, print the index if YES (do not use built in)."
   ]
  },
  {
   "cell_type": "code",
   "execution_count": null,
   "id": "ccf22681",
   "metadata": {},
   "outputs": [
    {
     "name": "stdout",
     "output_type": "stream",
     "text": [
      "Entered string is :  professor$SNAKE\n",
      "Target charector: $\n",
      "Character '$' found at indices: [9]\n"
     ]
    }
   ],
   "source": [
    "def find_character():\n",
    "    string = input(\"Enter a string: \")\n",
    "    char = input(\"Enter a character to find: \")\n",
    "\n",
    "    if len(char) != 1:\n",
    "        print(\"Please enter only one character\")\n",
    "        return\n",
    "\n",
    "    indices = []\n",
    "    for i in range(len(string)):\n",
    "        if string[i] == char:\n",
    "            indices.append(i)\n",
    "\n",
    "    print(\"Given string is : \", string)\n",
    "    print(\"Target charector: $\")\n",
    "    if indices:\n",
    "        print(f\"Character '{char}' found at indices: {indices}\")\n",
    "    else:\n",
    "        print(f\"Character '{char}' not found in the string\")\n",
    "\n",
    "\n",
    "# Test the function\n",
    "find_character()"
   ]
  },
  {
   "cell_type": "markdown",
   "id": "5a0f2520",
   "metadata": {},
   "source": [
    "#### 3. WAP to count the occurences of the char in a given string."
   ]
  },
  {
   "cell_type": "code",
   "execution_count": 5,
   "id": "7ee83c3f",
   "metadata": {},
   "outputs": [
    {
     "name": "stdout",
     "output_type": "stream",
     "text": [
      "Given String:  He is the who said hi\n",
      "Count of the occurrences: \n",
      "Character 'h' appears 3 times in the string\n"
     ]
    }
   ],
   "source": [
    "def count_character_occurrences():\n",
    "    string = input(\"Enter a string: \")\n",
    "    char = input(\"Enter a character to count: \")\n",
    "\n",
    "    if len(char) != 1:\n",
    "        print(\"Please enter only one character\")\n",
    "        return\n",
    "\n",
    "    print(\"Given String: \", string)\n",
    "    print(\"Count of the occurrences: \")\n",
    "    count = 0\n",
    "    for c in string:\n",
    "        if c == char:\n",
    "            count += 1\n",
    "\n",
    "    print(f\"Character '{char}' appears {count} times in the string\")\n",
    "\n",
    "\n",
    "# Test the function\n",
    "count_character_occurrences()"
   ]
  },
  {
   "cell_type": "markdown",
   "id": "4cc0b2d7",
   "metadata": {},
   "source": [
    "#### 4. WAP in which a function's task is to get a string made of four copies of last two charectors of a specified string that the len atleast 2."
   ]
  },
  {
   "cell_type": "code",
   "execution_count": 6,
   "id": "67680163",
   "metadata": {},
   "outputs": [
    {
     "name": "stdout",
     "output_type": "stream",
     "text": [
      "Given String:  sun\n",
      "Result: unununun\n"
     ]
    },
    {
     "data": {
      "text/plain": [
       "'unununun'"
      ]
     },
     "execution_count": 6,
     "metadata": {},
     "output_type": "execute_result"
    }
   ],
   "source": [
    "def last_two_repetition():\n",
    "    string = input(\"Enter a string (at least 2 characters): \")\n",
    "\n",
    "    if len(string) < 2:\n",
    "        print(\"String must be at least 2 characters long\")\n",
    "        return\n",
    "    \n",
    "    print(\"Given String: \", string)\n",
    "\n",
    "    last_two = string[-2:]\n",
    "    result = last_two * 4\n",
    "    print(f\"Result: {result}\")\n",
    "    return result\n",
    "\n",
    "\n",
    "# Test the function\n",
    "last_two_repetition()"
   ]
  },
  {
   "cell_type": "markdown",
   "id": "3e215d67",
   "metadata": {},
   "source": [
    "#### 5. WAP in which a function is defined is used for reversing the string if it's length is multiple of four."
   ]
  },
  {
   "cell_type": "code",
   "execution_count": 7,
   "id": "e6b9d165",
   "metadata": {},
   "outputs": [
    {
     "name": "stdout",
     "output_type": "stream",
     "text": [
      "'abcd' -> 'dcba'\n",
      "'python' -> 'python'\n",
      "'abcdefgh' -> 'hgfedcba'\n",
      "'hello' -> 'hello'\n",
      "'programming' -> 'programming'\n"
     ]
    }
   ],
   "source": [
    "def reverse_if_multiple_of_four(s):\n",
    "    if len(s) % 4 == 0:\n",
    "        return s[::-1]\n",
    "    else:\n",
    "        return s\n",
    "\n",
    "\n",
    "# Test the function\n",
    "test_strings = [\"abcd\", \"python\", \"abcdefgh\", \"hello\", \"programming\"]\n",
    "for test in test_strings:\n",
    "    result = reverse_if_multiple_of_four(test)\n",
    "    print(f\"'{test}' -> '{result}'\")"
   ]
  },
  {
   "cell_type": "markdown",
   "id": "32a3c000",
   "metadata": {},
   "source": [
    "#### ----------------- Regex"
   ]
  },
  {
   "cell_type": "markdown",
   "id": "72f72fdd",
   "metadata": {},
   "source": [
    "#### 1. WAP to check that a string has atleast one vowel. hint (use variable v = \"[aeiou]\")"
   ]
  },
  {
   "cell_type": "code",
   "execution_count": 9,
   "id": "9e088eef",
   "metadata": {},
   "outputs": [
    {
     "name": "stdout",
     "output_type": "stream",
     "text": [
      "Given string is :  AVIANSH\n",
      "The string contains at least one vowel\n"
     ]
    }
   ],
   "source": [
    "import re\n",
    "\n",
    "\n",
    "def check_vowel_presence():\n",
    "    string = input(\"Enter a string: \")\n",
    "    print(\"Given string is : \", string)\n",
    "\n",
    "    # Case-insensitive pattern to match vowels\n",
    "    pattern = r\"[aeiouAEIOU]\"\n",
    "\n",
    "    if re.search(pattern, string):\n",
    "        print(\"The string contains at least one vowel\")\n",
    "    else:\n",
    "        print(\"The string does not contain any vowels\")\n",
    "\n",
    "\n",
    "# Test the function\n",
    "check_vowel_presence()"
   ]
  },
  {
   "cell_type": "markdown",
   "id": "5fab79a3",
   "metadata": {},
   "source": [
    "#### 2. WAP that uses the regex module to match strings which starts with the sequence of digits e.g. atleast one digits followed by a ' ' after this some arbitrary charectors."
   ]
  },
  {
   "cell_type": "code",
   "execution_count": 10,
   "id": "cc8b48c9",
   "metadata": {},
   "outputs": [
    {
     "name": "stdout",
     "output_type": "stream",
     "text": [
      "Strings that match the pattern (start with digits, space, then any characters):\n",
      "✓ 123 hello world\n",
      "✓ 7 test string\n"
     ]
    }
   ],
   "source": [
    "import re\n",
    "\n",
    "\n",
    "def match_digit_start_pattern():\n",
    "    strings = [\n",
    "        \"123 hello world\",\n",
    "        \"45abc def\",\n",
    "        \"hello 123\",\n",
    "        \"7 test string\",\n",
    "        \"no digits here\",\n",
    "    ]\n",
    "\n",
    "    pattern = r\"^\\d+\\s.+\"\n",
    "\n",
    "    print(\n",
    "        \"Strings that match the pattern (start with digits, space, then any characters):\"\n",
    "    )\n",
    "    for s in strings:\n",
    "        if re.match(pattern, s):\n",
    "            print(f\"✓ {s}\")\n",
    "\n",
    "\n",
    "# Test the function\n",
    "match_digit_start_pattern()"
   ]
  },
  {
   "cell_type": "markdown",
   "id": "2f12d5a1",
   "metadata": {},
   "source": [
    "#### 3. WAP to print only two charector of every word.\n",
    "1. using the regex module\n",
    "2. also using the for loop\n",
    "3. using split and slice"
   ]
  },
  {
   "cell_type": "markdown",
   "id": "72c3e551",
   "metadata": {},
   "source": [
    "**method 1**"
   ]
  },
  {
   "cell_type": "code",
   "execution_count": 11,
   "id": "fefe7413",
   "metadata": {},
   "outputs": [
    {
     "name": "stdout",
     "output_type": "stream",
     "text": [
      "GIven String:  sonbhadra\n",
      "First two characters of each word (using regex): ['so']\n"
     ]
    },
    {
     "data": {
      "text/plain": [
       "['so']"
      ]
     },
     "execution_count": 11,
     "metadata": {},
     "output_type": "execute_result"
    }
   ],
   "source": [
    "# PART 1\n",
    "import re\n",
    "\n",
    "\n",
    "def extract_first_two_regex():\n",
    "    string = input(\"Enter a string: \")\n",
    "\n",
    "    print(\"GIven String: \", string)\n",
    "    pattern = r\"\\b\\w{1,2}\"\n",
    "\n",
    "    matches = re.findall(pattern, string)\n",
    "    print(f\"First two characters of each word (using regex): {matches}\")\n",
    "    return matches\n",
    "\n",
    "\n",
    "# Test the function\n",
    "extract_first_two_regex()"
   ]
  },
  {
   "cell_type": "markdown",
   "id": "48787a40",
   "metadata": {},
   "source": [
    "**method 2**"
   ]
  },
  {
   "cell_type": "code",
   "execution_count": 12,
   "id": "503a25fa",
   "metadata": {},
   "outputs": [
    {
     "name": "stdout",
     "output_type": "stream",
     "text": [
      "Given String is :  varansi\n",
      "First two characters of each word (using for loop): ['va']\n"
     ]
    },
    {
     "data": {
      "text/plain": [
       "['va']"
      ]
     },
     "execution_count": 12,
     "metadata": {},
     "output_type": "execute_result"
    }
   ],
   "source": [
    "# PART 2\n",
    "def extract_first_two_for_loop():\n",
    "    string = input(\"Enter a string: \")\n",
    "\n",
    "    print(\"Given String is : \", string)\n",
    "    words = string.split()\n",
    "    result = []\n",
    "\n",
    "    for word in words:\n",
    "        if len(word) >= 2:\n",
    "            result.append(word[:2])\n",
    "        else:\n",
    "            result.append(word)\n",
    "\n",
    "    print(f\"First two characters of each word (using for loop): {result}\")\n",
    "    return result\n",
    "\n",
    "\n",
    "# Test the function\n",
    "extract_first_two_for_loop()"
   ]
  },
  {
   "cell_type": "markdown",
   "id": "6e93679e",
   "metadata": {},
   "source": [
    "**method 3**"
   ]
  },
  {
   "cell_type": "code",
   "execution_count": null,
   "id": "458294c6",
   "metadata": {},
   "outputs": [
    {
     "name": "stdout",
     "output_type": "stream",
     "text": [
      "Given String is :  Varanasi is a good city\n",
      "First two characters of each word (using split and slice): ['Va', 'is', 'a', 'go', 'ci']\n"
     ]
    },
    {
     "data": {
      "text/plain": [
       "['Va', 'is', 'a', 'go', 'ci']"
      ]
     },
     "execution_count": 13,
     "metadata": {},
     "output_type": "execute_result"
    }
   ],
   "source": [
    "# Method 3\n",
    "def extract_first_two_split_slice():\n",
    "    string = input(\"Enter a string: \")\n",
    "\n",
    "    print(\"Given String is : \", string)\n",
    "    words = string.split()\n",
    "    result = [word[:2] for word in words]\n",
    "\n",
    "    print(f\"First two characters of each word (using split and slice): {result}\")\n",
    "    return result\n",
    "\n",
    "\n",
    "# Test the function\n",
    "extract_first_two_split_slice()"
   ]
  },
  {
   "cell_type": "code",
   "execution_count": null,
   "id": "04369ef7",
   "metadata": {},
   "outputs": [],
   "source": []
  }
 ],
 "metadata": {
  "kernelspec": {
   "display_name": "Python 3",
   "language": "python",
   "name": "python3"
  },
  "language_info": {
   "codemirror_mode": {
    "name": "ipython",
    "version": 3
   },
   "file_extension": ".py",
   "mimetype": "text/x-python",
   "name": "python",
   "nbconvert_exporter": "python",
   "pygments_lexer": "ipython3",
   "version": "3.10.6"
  }
 },
 "nbformat": 4,
 "nbformat_minor": 5
}
