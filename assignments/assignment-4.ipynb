{
 "cells": [
  {
   "cell_type": "markdown",
   "id": "d428ef3a",
   "metadata": {},
   "source": [
    "**Name :** Avinash Kumar Prajapati, **Roll number :** 25901326"
   ]
  },
  {
   "cell_type": "markdown",
   "id": "5f6d80c1",
   "metadata": {},
   "source": [
    "1. Write a Python function find_smallest_multiple(n: int) that uses a while loop to find the smallest positive integer x such that x is divisible by all numbers from 1 to n.\n",
    "- Conditions:\n",
    "    -  The function should keep incrementing x by 1 until it finds a number that satisfies the condition.\n",
    "    - Your solution should handle the edge case where n = 1 efficiently, returning 1 directly since 1 is divisible by itself."
   ]
  },
  {
   "cell_type": "code",
   "execution_count": null,
   "id": "b3d3f874",
   "metadata": {},
   "outputs": [
    {
     "name": "stdout",
     "output_type": "stream",
     "text": [
      "60\n",
      "1\n"
     ]
    }
   ],
   "source": [
    "def find_smallest_multiple(n: int) -> int:\n",
    "    if n == 1:\n",
    "        return 1\n",
    "\n",
    "    x = n\n",
    "    while True:\n",
    "        divisible = True\n",
    "        for i in range(1, n + 1):\n",
    "            if x % i != 0:\n",
    "                divisible = False\n",
    "                break\n",
    "        if divisible:\n",
    "            return x\n",
    "        x += 1\n",
    "\n",
    "\n",
    "# Test the function\n",
    "print(find_smallest_multiple(5))  # the Output: 60\n",
    "print(find_smallest_multiple(1))  # Output: 1"
   ]
  },
  {
   "cell_type": "markdown",
   "id": "42720102",
   "metadata": {},
   "source": [
    "2. Write a function cubesum() that accepts an integer and returns the sum of the cubes of individual digits of that number. Use this function to make functions PrintArmstrong() and isArmstrong() to print Armstrong numbers and to find whether is an Armstrong number."
   ]
  },
  {
   "cell_type": "code",
   "execution_count": 2,
   "id": "c6fc632c",
   "metadata": {},
   "outputs": [
    {
     "name": "stdout",
     "output_type": "stream",
     "text": [
      "Cube sum of 153: 153\n",
      "Is 153 Armstrong? True\n",
      "Is 123 Armstrong? False\n",
      "Armstrong numbers between 1 and 1000:\n",
      "1 153 370 371 407 "
     ]
    }
   ],
   "source": [
    "def cubesum(num: int) -> int:\n",
    "    return sum(int(digit) ** 3 for digit in str(num))\n",
    "\n",
    "\n",
    "def isArmstrong(num: int) -> bool:\n",
    "    return num == cubesum(num)\n",
    "\n",
    "\n",
    "def PrintArmstrong():\n",
    "    print(\"Armstrong numbers between 1 and 1000:\")\n",
    "    for num in range(1, 1001):\n",
    "        if isArmstrong(num):\n",
    "            print(num, end=\" \")\n",
    "\n",
    "\n",
    "print(\"Cube sum of 153:\", cubesum(153)) \n",
    "print(\"Is 153 Armstrong?\", isArmstrong(153)) \n",
    "print(\"Is 123 Armstrong?\", isArmstrong(123)) \n",
    "PrintArmstrong()"
   ]
  },
  {
   "cell_type": "markdown",
   "id": "aafea04e",
   "metadata": {},
   "source": [
    "3. Why is operator precedence important? Give an example where neglecting precedence changes the result."
   ]
  },
  {
   "cell_type": "code",
   "execution_count": 3,
   "id": "c06f100f",
   "metadata": {},
   "outputs": [
    {
     "name": "stdout",
     "output_type": "stream",
     "text": [
      "2 + 3 * 4 = 14\n",
      "(2 + 3) * 4 = 20\n",
      "Without proper precedence, multiplication happens before addition\n"
     ]
    }
   ],
   "source": [
    "result1 = 2 + 3 * 4  # Correct: 2 + (3*4) = 2 + 12 = 14  , as multiplications has more precedence\n",
    "result2 = (2 + 3) * 4  # Different: 5 * 4 = 20\n",
    "\n",
    "print(f\"2 + 3 * 4 = {result1}\")\n",
    "print(f\"(2 + 3) * 4 = {result2}\")\n",
    "print(\"Without proper precedence, multiplication happens before addition\")"
   ]
  },
  {
   "cell_type": "markdown",
   "id": "315cac91",
   "metadata": {},
   "source": [
    "4. Write a program to input a decimal number and print its equivalent binary, octal, and hexadecimal using operators."
   ]
  },
  {
   "cell_type": "code",
   "execution_count": 4,
   "id": "91b372a9",
   "metadata": {},
   "outputs": [
    {
     "name": "stdout",
     "output_type": "stream",
     "text": [
      "Decimal: 12\n",
      "Binary: 0b1100\n",
      "Octal: 0o14\n",
      "Hexadecimal: 0xc\n",
      "\n",
      "Alternative representation:\n",
      "Binary: 1100\n",
      "Octal: 14\n",
      "Hexadecimal: c\n"
     ]
    }
   ],
   "source": [
    "def convert_numbers():\n",
    "    decimal_num = int(input(\"Enter a decimal number: \"))\n",
    "\n",
    "    # Using built-in functios\n",
    "    binary = bin(decimal_num)\n",
    "    octal = oct(decimal_num)\n",
    "    hexadecimal = hex(decimal_num)\n",
    "\n",
    "    print(f\"Decimal: {decimal_num}\")\n",
    "    print(f\"Binary: {binary}\")\n",
    "    print(f\"Octal: {octal}\")\n",
    "    print(f\"Hexadecimal: {hexadecimal}\")\n",
    "\n",
    "    # Alternatively using format() function\n",
    "    print(\"\\nAlternative representation:\")\n",
    "    print(f\"Binary: {format(decimal_num, 'b')}\")\n",
    "    print(f\"Octal: {format(decimal_num, 'o')}\")\n",
    "    print(f\"Hexadecimal: {format(decimal_num, 'x')}\")\n",
    "\n",
    "\n",
    "# Testing the functions defined...\n",
    "convert_numbers()"
   ]
  },
  {
   "cell_type": "markdown",
   "id": "29ee6490",
   "metadata": {},
   "source": [
    "5. Write a Python function to create and print a list where the values are the squares of numbers between 1 and 30 (both included)."
   ]
  },
  {
   "cell_type": "code",
   "execution_count": 5,
   "id": "2306d0d6",
   "metadata": {},
   "outputs": [
    {
     "name": "stdout",
     "output_type": "stream",
     "text": [
      "Squares of numbers from 1 to 30:\n",
      "[1, 4, 9, 16, 25, 36, 49, 64, 81, 100, 121, 144, 169, 196, 225, 256, 289, 324, 361, 400, 441, 484, 529, 576, 625, 676, 729, 784, 841, 900]\n"
     ]
    }
   ],
   "source": [
    "def create_squares_list():\n",
    "    squares = [i**2 for i in range(1, 31)]\n",
    "    print(\"Squares of numbers from 1 to 30:\")\n",
    "    print(squares)\n",
    "    return squares\n",
    "\n",
    "\n",
    "#using for loop\n",
    "def create_squares_list_alt():\n",
    "    squares = []\n",
    "    for i in range(1, 31):\n",
    "        squares.append(i**2)\n",
    "    print(\"Squares of numbers from 1 to 30:\")\n",
    "    print(squares)\n",
    "    return squares\n",
    "\n",
    "\n",
    "#checking the fucntions\n",
    "squares_list = create_squares_list()"
   ]
  },
  {
   "cell_type": "markdown",
   "id": "67a5e3cd",
   "metadata": {},
   "source": [
    "6. Write a program that takes a sentence as input and counts the frequency of vowels, consonants, digits,and special characters separately"
   ]
  },
  {
   "cell_type": "code",
   "execution_count": 6,
   "id": "47d57efb",
   "metadata": {},
   "outputs": [
    {
     "name": "stdout",
     "output_type": "stream",
     "text": [
      "Vowels: 4\n",
      "Consonants: 5\n",
      "Digits: 0\n",
      "Special characters: 0\n"
     ]
    }
   ],
   "source": [
    "def count_characters():\n",
    "    sentence = input(\"Enter a sentence: \")\n",
    "\n",
    "    vowels = \"aeiouAEIOU\"\n",
    "    consonants = \"bcdfghjklmnpqrstvwxyzBCDFGHJKLMNPQRSTVWXYZ\"\n",
    "    digits = \"0123456789\"\n",
    "\n",
    "    vowel_count = 0\n",
    "    consonant_count = 0\n",
    "    digit_count = 0\n",
    "    special_count = 0\n",
    "\n",
    "    for char in sentence:\n",
    "        if char in vowels:\n",
    "            vowel_count += 1\n",
    "        elif char in consonants:\n",
    "            consonant_count += 1\n",
    "        elif char in digits:\n",
    "            digit_count += 1\n",
    "        elif char != \" \":  # WHen Not counting spaces as special characters\n",
    "            special_count += 1\n",
    "\n",
    "    print(f\"Vowels: {vowel_count}\")\n",
    "    print(f\"Consonants: {consonant_count}\")\n",
    "    print(f\"Digits: {digit_count}\")\n",
    "    print(f\"Special characters: {special_count}\")\n",
    "\n",
    "\n",
    "# Testing\n",
    "count_characters()"
   ]
  },
  {
   "cell_type": "markdown",
   "id": "b18623b6",
   "metadata": {},
   "source": [
    "7. Write a Python program to create a dictionary of students’ names as keys and their marks as values.\n",
    "Then:\n",
    "   1. Print the student with the highest marks\n",
    "   2. Print the student with the lowest marks"
   ]
  },
  {
   "cell_type": "code",
   "execution_count": 7,
   "id": "0fdc16ef",
   "metadata": {},
   "outputs": [
    {
     "name": "stdout",
     "output_type": "stream",
     "text": [
      "Student Marks:\n",
      "Alice: 85\n",
      "Bob: 92\n",
      "Charlie: 78\n",
      "Diana: 95\n",
      "Eve: 88\n",
      "\n",
      "Highest Marks: Diana - 95\n",
      "Lowest Marks: Charlie - 78\n"
     ]
    }
   ],
   "source": [
    "def student_marks_analysis():\n",
    "    # dictionary of students and marks\n",
    "    students = {}\n",
    "\n",
    "    n = int(input(\"Enter number of students: \"))\n",
    "\n",
    "    for i in range(n):\n",
    "        name = input(f\"Enter student {i+1} name: \")\n",
    "        marks = float(input(f\"Enter {name}'s marks: \"))\n",
    "        students[name] = marks\n",
    "\n",
    "    # Printing all of students and marks\n",
    "    print(\"\\nStudent Marks:\")\n",
    "    for name, marks in students.items():\n",
    "        print(f\"{name}: {marks}\")\n",
    "\n",
    "    # 1.Student with highest marks\n",
    "    highest_student = max(students, key=students.get)\n",
    "    highest_marks = students[highest_student]\n",
    "\n",
    "    # 2.Student with lowest marks\n",
    "    lowest_student = min(students, key=students.get)\n",
    "    lowest_marks = students[lowest_student]\n",
    "\n",
    "    print(f\"\\nHighest Marks: {highest_student} - {highest_marks}\")\n",
    "    print(f\"Lowest Marks: {lowest_student} - {lowest_marks}\")\n",
    "\n",
    "\n",
    "# Another approach\n",
    "def student_marks_predefined():\n",
    "    students = {\"Alice\": 85, \"Bob\": 92, \"Charlie\": 78, \"Diana\": 95, \"Eve\": 88}\n",
    "\n",
    "    print(\"Student Marks:\")\n",
    "    for name, marks in students.items():\n",
    "        print(f\"{name}: {marks}\")\n",
    "\n",
    "    highest_student = max(students, key=students.get)\n",
    "    lowest_student = min(students, key=students.get)\n",
    "\n",
    "    print(f\"\\nHighest Marks: {highest_student} - {students[highest_student]}\")\n",
    "    print(f\"Lowest Marks: {lowest_student} - {students[lowest_student]}\")\n",
    "\n",
    "\n",
    "# Test the function\n",
    "student_marks_predefined()\n",
    "# student_marks_analysis()  # Uncomment to use another"
   ]
  },
  {
   "cell_type": "code",
   "execution_count": null,
   "id": "a4848f64",
   "metadata": {},
   "outputs": [],
   "source": []
  }
 ],
 "metadata": {
  "kernelspec": {
   "display_name": "Python 3",
   "language": "python",
   "name": "python3"
  },
  "language_info": {
   "codemirror_mode": {
    "name": "ipython",
    "version": 3
   },
   "file_extension": ".py",
   "mimetype": "text/x-python",
   "name": "python",
   "nbconvert_exporter": "python",
   "pygments_lexer": "ipython3",
   "version": "3.10.6"
  }
 },
 "nbformat": 4,
 "nbformat_minor": 5
}
