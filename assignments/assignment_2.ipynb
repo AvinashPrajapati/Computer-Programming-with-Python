{
 "cells": [
  {
   "cell_type": "markdown",
   "id": "3d571d1b",
   "metadata": {},
   "source": [
    "##### Q1. Write a program to check whether a given number is positive, negative, or zero."
   ]
  },
  {
   "cell_type": "code",
   "execution_count": null,
   "id": "2a48a400",
   "metadata": {},
   "outputs": [],
   "source": [
    "num = input(\"Enter a number: \") \n",
    "#..\n",
    "if int(num) == 0:\n",
    "    print(\"Number is Zero.\")\n",
    "else:\n",
    "    print(\"positive\") if int(num) > 0 else print(\"negative\")"
   ]
  },
  {
   "cell_type": "markdown",
   "id": "b17fec1e",
   "metadata": {},
   "source": [
    "##### Q2. Write a program to check whether a given integer is even or odd."
   ]
  },
  {
   "cell_type": "code",
   "execution_count": null,
   "id": "072b4cf5",
   "metadata": {},
   "outputs": [],
   "source": [
    "num = input(\"Enter a number: \")\n",
    "if num % 2 == 0:\n",
    "    print(\"number is even.\")\n",
    "else:\n",
    "    print(\"number is odd.\")"
   ]
  },
  {
   "cell_type": "markdown",
   "id": "e389bb9c",
   "metadata": {},
   "source": [
    "##### Q3. Write a program to input two numbers and print which one is larger."
   ]
  },
  {
   "cell_type": "code",
   "execution_count": null,
   "id": "0fb6ac45",
   "metadata": {},
   "outputs": [
    {
     "name": "stdout",
     "output_type": "stream",
     "text": [
      "Second number is larger\n"
     ]
    }
   ],
   "source": [
    "n1 = int(input(\"Enter a 1st number: \"))\n",
    "n2 = int(input(\"Enter a 2nd number: \"))\n",
    "print(\"First one is larger\") if(n1>n2) else print(\"Second number is larger\")"
   ]
  },
  {
   "cell_type": "markdown",
   "id": "721c734c",
   "metadata": {},
   "source": [
    "##### Q4. Write a program to find the absolute value of a given number without using the abs() function."
   ]
  },
  {
   "cell_type": "code",
   "execution_count": null,
   "id": "9087a774",
   "metadata": {},
   "outputs": [],
   "source": [
    "x = int(input(\"Enter any number: \"))\n",
    "if x < 0:\n",
    "    print(-x)\n",
    "else:\n",
    "    print(x)"
   ]
  },
  {
   "cell_type": "markdown",
   "id": "d3944bb2",
   "metadata": {},
   "source": [
    "##### Q5. Write a program to check whether a person is eligible to vote or not. (A person is eligible if their age is 18 or above)."
   ]
  },
  {
   "cell_type": "code",
   "execution_count": 9,
   "id": "b2766227",
   "metadata": {},
   "outputs": [
    {
     "name": "stdout",
     "output_type": "stream",
     "text": [
      "Not eligible to vote\n"
     ]
    }
   ],
   "source": [
    "age = int(input(\"Enter your age: \"))\n",
    "if age >= 18:\n",
    "    print(\"Eligible to vote\")\n",
    "else:\n",
    "    print(\"Not eligible to vote\")"
   ]
  },
  {
   "cell_type": "markdown",
   "id": "5e84a37f",
   "metadata": {},
   "source": [
    "##### Q6. Write a program to check whether a given year is a leap year or not. (Hint: A leap year is divisible by 4, but not by 100 unless also divisible by 400)."
   ]
  },
  {
   "cell_type": "code",
   "execution_count": 10,
   "id": "ec835f43",
   "metadata": {},
   "outputs": [
    {
     "name": "stdout",
     "output_type": "stream",
     "text": [
      "Leap Year\n"
     ]
    }
   ],
   "source": [
    "year = int(input(\"Enter any year like 2024, 2025 etc. : \"))\n",
    "if (year % 4 == 0 and year % 100 != 0) or (year % 400 == 0):\n",
    "    print(\"Leap Year\")\n",
    "else:\n",
    "    print(\"Not a Leap Year\")"
   ]
  },
  {
   "cell_type": "markdown",
   "id": "56e36fa6",
   "metadata": {},
   "source": [
    "##### Q7. Grade Calculation\n",
    "**Write a program that takes marks as input and prints:**\n",
    "- 'Pass' if marks are 40 or above\n",
    "- 'Fail' if marks are less than 40"
   ]
  },
  {
   "cell_type": "code",
   "execution_count": 11,
   "id": "d9562885",
   "metadata": {},
   "outputs": [
    {
     "name": "stdout",
     "output_type": "stream",
     "text": [
      "Fail\n"
     ]
    }
   ],
   "source": [
    "marks = int(input(\"Enter your marks : \"))\n",
    "if marks >= 40:\n",
    "    print(\"Pass\")\n",
    "else:\n",
    "    print(\"Fail\")"
   ]
  },
  {
   "cell_type": "markdown",
   "id": "83563ac9",
   "metadata": {},
   "source": [
    "##### Q8. Write a program to check whether a given number is a multiple of 5."
   ]
  },
  {
   "cell_type": "code",
   "execution_count": 12,
   "id": "788d4daa",
   "metadata": {},
   "outputs": [
    {
     "name": "stdout",
     "output_type": "stream",
     "text": [
      "Multiple of 5\n"
     ]
    }
   ],
   "source": [
    "n = int(input(\"Enter any number : \"))\n",
    "if n % 5 == 0:\n",
    "    print(\"Multiple of 5\")\n",
    "else:\n",
    "    print(\"Not a multiple of 5\")"
   ]
  },
  {
   "cell_type": "markdown",
   "id": "35336ea5",
   "metadata": {},
   "source": [
    "##### Q9. Write a program to input a character and check whether it is an uppercase letter, lowercase letter, or not a letter."
   ]
  },
  {
   "cell_type": "code",
   "execution_count": 13,
   "id": "2b28af21",
   "metadata": {},
   "outputs": [
    {
     "name": "stdout",
     "output_type": "stream",
     "text": [
      "Not a Letter\n"
     ]
    }
   ],
   "source": [
    "ch = input(\"Enter any charector : \")\n",
    "if \"A\" <= ch <= \"Z\":\n",
    "    print(\"Uppercase Letter\")\n",
    "elif \"a\" <= ch <= \"z\":\n",
    "    print(\"Lowercase Letter\")\n",
    "else:\n",
    "    print(\"Not a Letter\")"
   ]
  },
  {
   "cell_type": "markdown",
   "id": "8d3964cb",
   "metadata": {},
   "source": [
    "##### Q10. Discount Calculator\n",
    "**Write a program that calculates the discount:**\n",
    "- If purchase amount is greater than or equal to 1000, apply a 10% discount.\n",
    "- Otherwise, no discount.\n",
    "* Finally, print the final bill amount."
   ]
  },
  {
   "cell_type": "code",
   "execution_count": 14,
   "id": "a58278e1",
   "metadata": {},
   "outputs": [
    {
     "name": "stdout",
     "output_type": "stream",
     "text": [
      "Final Bill: 2299.5\n"
     ]
    }
   ],
   "source": [
    "amt = float(input(\"Enter the purchase amount : \"))\n",
    "if amt >= 1000:\n",
    "    amt = amt - (amt * 0.1)\n",
    "print(\"Final Bill:\", amt)"
   ]
  },
  {
   "cell_type": "code",
   "execution_count": null,
   "id": "a0db87cf",
   "metadata": {},
   "outputs": [],
   "source": []
  }
 ],
 "metadata": {
  "kernelspec": {
   "display_name": "Python 3",
   "language": "python",
   "name": "python3"
  },
  "language_info": {
   "codemirror_mode": {
    "name": "ipython",
    "version": 3
   },
   "file_extension": ".py",
   "mimetype": "text/x-python",
   "name": "python",
   "nbconvert_exporter": "python",
   "pygments_lexer": "ipython3",
   "version": "3.10.6"
  }
 },
 "nbformat": 4,
 "nbformat_minor": 5
}
